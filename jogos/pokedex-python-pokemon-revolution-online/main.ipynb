{
 "cells": [
  {
   "cell_type": "markdown",
   "metadata": {},
   "source": [
    "# Projeto Pokedex para o Pokemon Revolution Online"
   ]
  },
  {
   "cell_type": "code",
   "execution_count": 1,
   "metadata": {},
   "outputs": [
    {
     "ename": "ModuleNotFoundError",
     "evalue": "No module named 'ipywidgets'",
     "output_type": "error",
     "traceback": [
      "\u001b[1;31m---------------------------------------------------------------------------\u001b[0m",
      "\u001b[1;31mModuleNotFoundError\u001b[0m                       Traceback (most recent call last)",
      "Cell \u001b[1;32mIn[1], line 1\u001b[0m\n\u001b[1;32m----> 1\u001b[0m \u001b[38;5;28;01mimport\u001b[39;00m \u001b[38;5;21;01mipywidgets\u001b[39;00m \u001b[38;5;28;01mas\u001b[39;00m \u001b[38;5;21;01mwidgets\u001b[39;00m\n\u001b[0;32m      2\u001b[0m \u001b[38;5;28;01mimport\u001b[39;00m \u001b[38;5;21;01mpandas\u001b[39;00m \u001b[38;5;28;01mas\u001b[39;00m \u001b[38;5;21;01mpd\u001b[39;00m\n\u001b[0;32m      3\u001b[0m \u001b[38;5;28;01mimport\u001b[39;00m \u001b[38;5;21;01mjson\u001b[39;00m\n",
      "\u001b[1;31mModuleNotFoundError\u001b[0m: No module named 'ipywidgets'"
     ]
    }
   ],
   "source": [
    "import ipywidgets as widgets\n",
    "import pandas as pd\n",
    "import json\n",
    "\n",
    "with open('json/pokemons.json', 'r') as json_file:\n",
    "    dados_pokemon = json.load(json_file)\n",
    "\n",
    "def modificar_dados(dados_pokemon):\n",
    "    for pokemon in dados_pokemon:\n",
    "        # Criar coluna Local com base nas condições fornecidas\n",
    "        if 'RequiredRod' in pokemon and pokemon['RequiredRod']:\n",
    "            pokemon['Encontro'] = pokemon['RequiredRod']\n",
    "        elif pokemon['Fishing'] == -1:\n",
    "            pokemon['Encontro'] = 'Land'\n",
    "        elif pokemon['Fishing'] == 0:\n",
    "            pokemon['Encontro'] = 'Water'\n",
    "\n",
    "        tipos = pokemon['Type']\n",
    "        if len(pokemon['Type']) > 0:\n",
    "            pokemon['Tipo 1'] = tipos[0]\n",
    "            pokemon['Tipo 2'] = ''\n",
    "        if len(pokemon['Type']) > 1:\n",
    "            pokemon['Tipo 1'] = tipos[0]\n",
    "            pokemon['Tipo 2'] = tipos[1]\n",
    "    \n",
    "    return dados_pokemon\n",
    "\n",
    "def filtrar_dados(Vip, Regioes, Tipos, Encontro, Time):\n",
    "    df = pd.DataFrame(modificar_dados(dados_pokemon))\n",
    "    if Regioes:\n",
    "        df = df[df['Regiao'] == Regioes]\n",
    "    if Tipos:\n",
    "        df = df[df['Type'].apply(lambda x: Tipos in x)]\n",
    "    if Vip:\n",
    "        df = df[df['MemberOnly'] == (Vip == 'Sim')]\n",
    "    if Encontro:\n",
    "        df = df[df['Encontro'] == Encontro]\n",
    "    if Time:\n",
    "        df = df[df['Daytime'].apply(lambda x: Time.lower() in ['manha', 'tarde', 'noite'] and x[0] == (Time.lower() == 'manha') and x[1] == (Time.lower() == 'tarde') and x[2] == (Time.lower() == 'noite'))]\n",
    "\n",
    "    colunas_desejadas = ['Regiao','Mapa','Pokemon','Tipo 1','Tipo 2','MonsterID','Daytime','Encontro','HP','Attack','Defense','Sp. Attack','Sp. Defense','Speed']\n",
    "    df = df[colunas_desejadas]\n",
    "\n",
    "    display(df)\n"
   ]
  },
  {
   "cell_type": "code",
   "execution_count": null,
   "metadata": {},
   "outputs": [],
   "source": [
    "Regioes = widgets.Dropdown(\n",
    "    options=[\"\", \"kanto\", \"johto\", \"hoenn\", \"sinnoh\", \"phantasm\", \"aphrodia\", \"evergreen\", \"breezy\", \"vulcan\", \"sevii\", \"event\", \"astrella\"],\n",
    "    description='Região:',\n",
    "    disabled=False,\n",
    "    button_style='', # 'success', 'info', 'warning', 'danger' or ''\n",
    ")\n",
    "\n",
    "Tipos = widgets.Dropdown(\n",
    "    options=[\"\", \"Normal\", \"Fighting\", \"Flying\", \"Poison\", \"Ground\", \"Rock\", \"Bug\", \"Ghost\", \"Steel\", \"Fire\", \"Water\", \"Grass\", \"Electric\", \"Psychic\", \"Ice\", \"Dragon\", \"Dark\", \"Fairy\"],\n",
    "    description='Tipo:',\n",
    "    disabled=False,\n",
    "    button_style='', # 'success', 'info', 'warning', 'danger' or ''\n",
    ")\n",
    "\n",
    "Vip = widgets.Dropdown(\n",
    "    options=['', 'Sim', 'Não'],\n",
    "    description='Vip:',\n",
    "    disabled=False\n",
    ")\n",
    "\n",
    "Encontro = widgets.Dropdown(\n",
    "    options=['', 'Land', 'Water', 'Old Rod', 'Good Rod', 'Super Rod'],\n",
    "    description='Achado em:',\n",
    "    disabled=False\n",
    ")\n",
    "\n",
    "Time = widgets.Dropdown(\n",
    "    options=['', 'Manha', 'Tarde', 'Noite'],\n",
    "    description='Horario:',\n",
    "    disabled=False\n",
    ")"
   ]
  },
  {
   "cell_type": "code",
   "execution_count": null,
   "metadata": {},
   "outputs": [
    {
     "data": {
      "application/vnd.jupyter.widget-view+json": {
       "model_id": "898ab88f92f5422b9c244bc399dae216",
       "version_major": 2,
       "version_minor": 0
      },
      "text/plain": [
       "HBox(children=(Dropdown(description='Vip:', options=('', 'Sim', 'Não'), value=''), Dropdown(description='Regiã…"
      ]
     },
     "metadata": {},
     "output_type": "display_data"
    },
    {
     "data": {
      "application/vnd.jupyter.widget-view+json": {
       "model_id": "d7e80128eac543399ae26252ec33d1d9",
       "version_major": 2,
       "version_minor": 0
      },
      "text/plain": [
       "Output()"
      ]
     },
     "metadata": {},
     "output_type": "display_data"
    }
   ],
   "source": [
    "# Interatividade\n",
    "ui = widgets.HBox([Vip, Regioes, Tipos, Encontro, Time])\n",
    "out = widgets.interactive_output(filtrar_dados, {'Vip': Vip, 'Regioes': Regioes, 'Tipos': Tipos, 'Encontro': Encontro, 'Time': Time})\n",
    "\n",
    "display(ui, out)"
   ]
  },
  {
   "cell_type": "code",
   "execution_count": null,
   "metadata": {},
   "outputs": [
    {
     "data": {
      "application/vnd.jupyter.widget-view+json": {
       "model_id": "513069d6d66d455cac3e99c3d02ed708",
       "version_major": 2,
       "version_minor": 0
      },
      "text/plain": [
       "Output(outputs=({'output_type': 'display_data', 'data': {'text/plain': '     Regiao          Mapa        Pokem…"
      ]
     },
     "metadata": {},
     "output_type": "display_data"
    }
   ],
   "source": [
    "display(out)"
   ]
  }
 ],
 "metadata": {
  "kernelspec": {
   "display_name": "Python 3",
   "language": "python",
   "name": "python3"
  },
  "language_info": {
   "codemirror_mode": {
    "name": "ipython",
    "version": 3
   },
   "file_extension": ".py",
   "mimetype": "text/x-python",
   "name": "python",
   "nbconvert_exporter": "python",
   "pygments_lexer": "ipython3",
   "version": "3.12.6"
  }
 },
 "nbformat": 4,
 "nbformat_minor": 2
}
